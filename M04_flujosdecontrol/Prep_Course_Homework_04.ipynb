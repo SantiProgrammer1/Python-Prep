{
 "cells": [
  {
   "attachments": {},
   "cell_type": "markdown",
   "metadata": {},
   "source": [
    "## Flujos de Control"
   ]
  },
  {
   "attachments": {},
   "cell_type": "markdown",
   "metadata": {},
   "source": [
    "1) Crear una variable que contenga un elemento del conjunto de números enteros y luego imprimir por pantalla si es mayor o menor a cero"
   ]
  },
  {
   "cell_type": "code",
   "execution_count": 2,
   "metadata": {},
   "outputs": [
    {
     "name": "stdout",
     "output_type": "stream",
     "text": [
      "-1: menor\n",
      "2: mayor\n",
      "4: mayor\n",
      "-5: menor\n",
      "-3: menor\n"
     ]
    }
   ],
   "source": [
    "elementos = [-1,2,4,-5,-3]\n",
    "for i in elementos:\n",
    "    if i < 0:\n",
    "        print(f\"{i}: menor\")\n",
    "    else:\n",
    "        print(f\"{i}: mayor\")"
   ]
  },
  {
   "attachments": {},
   "cell_type": "markdown",
   "metadata": {},
   "source": [
    "2) Crear dos variables y un condicional que informe si son del mismo tipo de dato"
   ]
  },
  {
   "cell_type": "code",
   "execution_count": 3,
   "metadata": {},
   "outputs": [
    {
     "name": "stdout",
     "output_type": "stream",
     "text": [
      "aa y 2 no son el mismo tipo de dato\n"
     ]
    }
   ],
   "source": [
    "letra = \"aa\"\n",
    "nu = 2\n",
    "if type(letra) == type(nu):\n",
    "    print(f\"{letra} y {nu} son el mismo tipo de dato\")\n",
    "else:\n",
    "    print(f\"{letra} y {nu} no son el mismo tipo de dato\")"
   ]
  },
  {
   "attachments": {},
   "cell_type": "markdown",
   "metadata": {},
   "source": [
    "3) Para los valores enteros del 1 al 20, imprimir por pantalla si es par o impar"
   ]
  },
  {
   "cell_type": "code",
   "execution_count": 4,
   "metadata": {},
   "outputs": [
    {
     "name": "stdout",
     "output_type": "stream",
     "text": [
      "1 es impar\n",
      "2 es par\n",
      "3 es impar\n",
      "4 es par\n",
      "5 es impar\n",
      "6 es par\n",
      "7 es impar\n",
      "8 es par\n",
      "9 es impar\n",
      "10 es par\n",
      "11 es impar\n",
      "12 es par\n",
      "13 es impar\n",
      "14 es par\n",
      "15 es impar\n",
      "16 es par\n",
      "17 es impar\n",
      "18 es par\n",
      "19 es impar\n",
      "20 es par\n"
     ]
    }
   ],
   "source": [
    "for i in range(1,21):\n",
    "    if i % 2 == 0:\n",
    "        print(f\"{i} es par\")\n",
    "    else:\n",
    "        print(f\"{i} es impar\")"
   ]
  },
  {
   "attachments": {},
   "cell_type": "markdown",
   "metadata": {},
   "source": [
    "4) En un ciclo for mostrar para los valores entre 0 y 5 el resultado de elevarlo a la potencia igual a 3"
   ]
  },
  {
   "cell_type": "code",
   "execution_count": 5,
   "metadata": {},
   "outputs": [
    {
     "name": "stdout",
     "output_type": "stream",
     "text": [
      "0\n",
      "1\n",
      "8\n",
      "27\n",
      "64\n",
      "125\n"
     ]
    }
   ],
   "source": [
    "for i in range(0,6):\n",
    "    print(i**3)"
   ]
  },
  {
   "attachments": {},
   "cell_type": "markdown",
   "metadata": {},
   "source": [
    "5) Crear una variable que contenga un número entero y realizar un ciclo for la misma cantidad de ciclos"
   ]
  },
  {
   "cell_type": "code",
   "execution_count": 7,
   "metadata": {},
   "outputs": [
    {
     "name": "stdout",
     "output_type": "stream",
     "text": [
      "ciclo n1\n",
      "ciclo n2\n",
      "ciclo n3\n",
      "ciclo n4\n",
      "ciclo n5\n"
     ]
    }
   ],
   "source": [
    "n = 5\n",
    "for i in range(1,n+1):\n",
    "    print(f\"ciclo n{i}\")"
   ]
  },
  {
   "attachments": {},
   "cell_type": "markdown",
   "metadata": {},
   "source": [
    "6) Utilizar un ciclo while para realizar el factorial de un número guardado en una variable, sólo si la variable contiene un número entero mayor a 0"
   ]
  },
  {
   "cell_type": "code",
   "execution_count": 2,
   "metadata": {},
   "outputs": [
    {
     "name": "stdout",
     "output_type": "stream",
     "text": [
      "720\n"
     ]
    }
   ],
   "source": [
    "facto = 1\n",
    "resul = 1\n",
    "if int(facto) > 0:\n",
    "    while facto != 6:\n",
    "        resul *= (facto+1)\n",
    "        facto +=1\n",
    "print(resul)"
   ]
  },
  {
   "attachments": {},
   "cell_type": "markdown",
   "metadata": {},
   "source": [
    "7) Crear un ciclo for dentro de un ciclo while"
   ]
  },
  {
   "cell_type": "code",
   "execution_count": 3,
   "metadata": {},
   "outputs": [
    {
     "name": "stdout",
     "output_type": "stream",
     "text": [
      "4.5\n",
      "9.0\n"
     ]
    }
   ],
   "source": [
    "conteo = 0\n",
    "while conteo < 5:\n",
    "    for i in range(1,10):\n",
    "        conteo += .5\n",
    "    print(conteo)"
   ]
  },
  {
   "attachments": {},
   "cell_type": "markdown",
   "metadata": {},
   "source": [
    "8) Crear un ciclo while dentro de un ciclo for"
   ]
  },
  {
   "cell_type": "code",
   "execution_count": 4,
   "metadata": {},
   "outputs": [
    {
     "name": "stdout",
     "output_type": "stream",
     "text": [
      "6\n"
     ]
    }
   ],
   "source": [
    "lista=[1,2,3,4,5,6,7]\n",
    "for i in lista:\n",
    "    while i == 6:\n",
    "        print(i)\n",
    "        break"
   ]
  },
  {
   "attachments": {},
   "cell_type": "markdown",
   "metadata": {},
   "source": [
    "9) Imprimir los números primos existentes entre 0 y 30"
   ]
  },
  {
   "cell_type": "code",
   "execution_count": 7,
   "metadata": {},
   "outputs": [
    {
     "name": "stdout",
     "output_type": "stream",
     "text": [
      "[2, 3, 5, 7, 11, 13, 17, 19, 23, 29]\n"
     ]
    }
   ],
   "source": [
    "# primos = []\n",
    "# #recorriendo del 0-30\n",
    "# for n in range(0,30):\n",
    "#     #recorriendo del 1 a n dado\n",
    "#     for i in range(2,n):\n",
    "#         #sacando formula sobre los dividendos\n",
    "#         #si\n",
    "#         if n % i == 0 and (n/i == 1 or n/i == n):\n",
    "#             if n not in primos:\n",
    "#                 primos.append(n)\n",
    "#         # else:\n",
    "#         #     if n not in primos:\n",
    "#         #         primos.append(n)\n",
    "# print(primos)\n",
    "numeros_primos = []\n",
    "\n",
    "for num in range(2, 31):\n",
    "    es_primo = True\n",
    "    for i in range(2, int(num**0.5) + 1):\n",
    "        if num % i == 0:\n",
    "            es_primo = False\n",
    "            break\n",
    "    if es_primo:\n",
    "        numeros_primos.append(num)\n",
    "print(numeros_primos)"
   ]
  },
  {
   "attachments": {},
   "cell_type": "markdown",
   "metadata": {},
   "source": [
    "10) ¿Se puede mejorar el proceso del punto 9? Utilizar las sentencias break y/ó continue para tal fin"
   ]
  },
  {
   "cell_type": "code",
   "execution_count": 8,
   "metadata": {},
   "outputs": [
    {
     "name": "stdout",
     "output_type": "stream",
     "text": [
      "[2, 3, 5, 7, 11, 13, 17, 19, 23, 29]\n"
     ]
    }
   ],
   "source": [
    "numeros_primos = []\n",
    "\n",
    "for num in range(2, 31):\n",
    "    es_primo = True\n",
    "    for i in range(2, int(num**0.5) + 1):\n",
    "        if num % i == 0:\n",
    "            es_primo = False\n",
    "            break\n",
    "    if es_primo:\n",
    "        numeros_primos.append(num)\n",
    "print(numeros_primos)"
   ]
  },
  {
   "attachments": {},
   "cell_type": "markdown",
   "metadata": {},
   "source": [
    "11) En los puntos 9 y 10, se diseño un código que encuentra números primos y además se lo optimizó. ¿Es posible saber en qué medida se optimizó?"
   ]
  },
  {
   "cell_type": "code",
   "execution_count": 9,
   "metadata": {},
   "outputs": [
    {
     "name": "stdout",
     "output_type": "stream",
     "text": [
      "[2, 3, 5, 7, 11, 13, 17, 19, 23, 29]\n"
     ]
    }
   ],
   "source": [
    "numeros_primos = []\n",
    "\n",
    "for num in range(2, 31):\n",
    "    es_primo = True\n",
    "    for i in range(2, int(num**0.5) + 1):\n",
    "        if num % i == 0:\n",
    "            es_primo = False\n",
    "            break\n",
    "    if es_primo:\n",
    "        numeros_primos.append(num)\n",
    "print(numeros_primos)"
   ]
  },
  {
   "attachments": {},
   "cell_type": "markdown",
   "metadata": {},
   "source": [
    "12) Aplicando continue, armar un ciclo while que solo imprima los valores divisibles por 12, dentro del rango de números de 100 a 300"
   ]
  },
  {
   "cell_type": "code",
   "execution_count": 12,
   "metadata": {},
   "outputs": [
    {
     "name": "stdout",
     "output_type": "stream",
     "text": [
      "[108, 120, 132, 144, 156, 168, 180, 192, 204, 216, 228, 240, 252, 264, 276, 288]\n"
     ]
    }
   ],
   "source": [
    "inicio = 100\n",
    "divisibles = []\n",
    "while inicio < 300:\n",
    "    if inicio % 12 != 0:\n",
    "        inicio+=1\n",
    "        continue\n",
    "    else:\n",
    "        divisibles.append(inicio)\n",
    "    inicio += 1\n",
    "print(divisibles)"
   ]
  },
  {
   "attachments": {},
   "cell_type": "markdown",
   "metadata": {},
   "source": [
    "13) Utilizar la función **input()** que permite hacer ingresos por teclado, para encontrar números primos y dar la opción al usario de buscar el siguiente"
   ]
  },
  {
   "cell_type": "code",
   "execution_count": 2,
   "metadata": {},
   "outputs": [
    {
     "name": "stdout",
     "output_type": "stream",
     "text": [
      "2\n",
      "3\n"
     ]
    }
   ],
   "source": [
    "primo = 2\n",
    "seguir = True\n",
    "while seguir:\n",
    "    for num in range(primo, 100):\n",
    "        es_primo = True\n",
    "        for i in range(primo, int(num**0.5) + 1):\n",
    "            if num % i == 0:\n",
    "                es_primo = False\n",
    "                break\n",
    "        if es_primo:\n",
    "            print(num)\n",
    "            respuesta = input(\"buscar siguiente?\")\n",
    "            if respuesta == \"no\" or respuesta == \"No\":\n",
    "                seguir = False\n",
    "                break"
   ]
  },
  {
   "attachments": {},
   "cell_type": "markdown",
   "metadata": {},
   "source": [
    "14) Crear un ciclo while que encuentre dentro del rango de 100 a 300 el primer número divisible por 3 y además múltiplo de 6"
   ]
  },
  {
   "cell_type": "code",
   "execution_count": 5,
   "metadata": {},
   "outputs": [
    {
     "name": "stdout",
     "output_type": "stream",
     "text": [
      "[102]\n"
     ]
    }
   ],
   "source": [
    "num = []\n",
    "while len(num) == 0:\n",
    "    for i in range(100,301):\n",
    "        if i % 3 == 0 and i % 6 == 0:\n",
    "            num.append(i)\n",
    "            break\n",
    "print(num)"
   ]
  }
 ],
 "metadata": {
  "interpreter": {
   "hash": "c85384e4cb51c8b72350f3a8712cc8351fdc3955e32a27f9b60c6242ab125f01"
  },
  "kernelspec": {
   "display_name": "Python 3 (ipykernel)",
   "language": "python",
   "name": "python3"
  },
  "language_info": {
   "codemirror_mode": {
    "name": "ipython",
    "version": 3
   },
   "file_extension": ".py",
   "mimetype": "text/x-python",
   "name": "python",
   "nbconvert_exporter": "python",
   "pygments_lexer": "ipython3",
   "version": "3.11.4"
  }
 },
 "nbformat": 4,
 "nbformat_minor": 4
}
