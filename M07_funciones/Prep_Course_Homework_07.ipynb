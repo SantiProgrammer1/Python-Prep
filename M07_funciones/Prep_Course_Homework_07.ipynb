{
 "cells": [
  {
   "attachments": {},
   "cell_type": "markdown",
   "metadata": {},
   "source": [
    "## Funciones"
   ]
  },
  {
   "attachments": {},
   "cell_type": "markdown",
   "metadata": {},
   "source": [
    "1) Crear una función que reciba un número como parámetro y devuelva True si es primo y False si no lo es"
   ]
  },
  {
   "cell_type": "code",
   "execution_count": 1,
   "metadata": {},
   "outputs": [
    {
     "name": "stdout",
     "output_type": "stream",
     "text": [
      "False\n"
     ]
    }
   ],
   "source": [
    "def primo(num):\n",
    "    es_primo = True\n",
    "    for i in range(2, int(num**0.5) + 1):\n",
    "        if num % i == 0:\n",
    "            es_primo = False\n",
    "            break\n",
    "    return es_primo\n",
    "print(primo(4))\n",
    "        "
   ]
  },
  {
   "attachments": {},
   "cell_type": "markdown",
   "metadata": {},
   "source": [
    "2) Utilizando la función del punto 1, realizar otra función que reciba de parámetro una lista de números y devuelva sólo aquellos que son primos en otra lista"
   ]
  },
  {
   "cell_type": "code",
   "execution_count": 2,
   "metadata": {},
   "outputs": [
    {
     "name": "stdout",
     "output_type": "stream",
     "text": [
      "[1, 2, 3, 5, 7, 11, 13]\n"
     ]
    }
   ],
   "source": [
    "lista = [1,2,3,4,5,6,7,8,9,10,11,12,13,14,15]\n",
    "def son_primos(lista_primos):\n",
    "    primos_lista = []\n",
    "    for i in lista_primos:\n",
    "        if primo(i):\n",
    "            primos_lista.append(i)\n",
    "    return primos_lista\n",
    "print(son_primos(lista))"
   ]
  },
  {
   "attachments": {},
   "cell_type": "markdown",
   "metadata": {},
   "source": [
    "3) Crear una función que al recibir una lista de números, devuelva el que más se repite y cuántas veces lo hace. Si hay más de un \"más repetido\", que devuelva cualquiera"
   ]
  },
  {
   "cell_type": "code",
   "execution_count": 8,
   "metadata": {},
   "outputs": [
    {
     "name": "stdout",
     "output_type": "stream",
     "text": [
      "(1, 4)\n",
      "Help on function num_mas_repetido in module __main__:\n",
      "\n",
      "num_mas_repetido(lista)\n",
      "    Devuelve el número que más se repite y la cantidad de veces repetidas\n",
      "\n"
     ]
    }
   ],
   "source": [
    "lis = [1,1,1,2,3,5,6,5,1,5]\n",
    "def num_mas_repetido(lista):\n",
    "    '''Devuelve el número que más se repite y la cantidad de veces repetidas\n",
    "    '''\n",
    "    cantidades_totales=[]\n",
    "    for i in lista:\n",
    "        veces_repetidas=0\n",
    "        for rep in lista:\n",
    "            if rep == i:\n",
    "                veces_repetidas +=1\n",
    "        cantidades_totales.append((i,veces_repetidas))\n",
    "    mayor= [0,1]\n",
    "    for num in cantidades_totales:\n",
    "        if num[1] > mayor[1]:\n",
    "            mayor = num    \n",
    "    return mayor\n",
    "print(num_mas_repetido(lis))\n",
    "help(num_mas_repetido)"
   ]
  },
  {
   "attachments": {},
   "cell_type": "markdown",
   "metadata": {},
   "source": [
    "4) Crear una función que convierta entre grados Celsius, Farenheit y Kelvin<br>\n",
    "Fórmula 1\t: (°C × 9/5) + 32 = °F<br>\n",
    "Fórmula 2\t: °C + 273.15 = °K<br>\n",
    "Debe recibir 3 parámetros: el valor, la medida de orígen y la medida de destino\n"
   ]
  },
  {
   "cell_type": "code",
   "execution_count": 31,
   "metadata": {},
   "outputs": [
    {
     "name": "stdout",
     "output_type": "stream",
     "text": [
      "-12.222222222222221\n",
      "Help on function grados in module __main__:\n",
      "\n",
      "grados(valor, origen, destino)\n",
      "    Convierte el valor del grado recibido de origen a grado de destino\n",
      "    Opciones:\n",
      "    -Celsius\n",
      "    -Farenheit\n",
      "    -Kelvin\n",
      "\n"
     ]
    }
   ],
   "source": [
    "def grados(valor,origen,destino):\n",
    "    '''Convierte el valor del grado recibido de origen a grado de destino\n",
    "    Opciones:\n",
    "    -Celsius\n",
    "    -Farenheit\n",
    "    -Kelvin'''\n",
    "    # celcius = 0 // farenheit = 32 // kelvin = 273.15\n",
    "    #Celsius\n",
    "    if origen == \"celsius\" and destino == \"farenheit\":\n",
    "        return (valor * 9/5) + 32\n",
    "    elif origen == \"celsius\" and destino == \"kelvin\":\n",
    "        return valor + 273.15\n",
    "    #Kelvin\n",
    "    elif origen == \"kelvin\" and destino == \"celsius\":\n",
    "        return valor - 273.15\n",
    "    elif origen == \"kelvin\" and destino == \"farenheit\":\n",
    "        return ((valor - 273.15) * 9/5) + 32\n",
    "    #Farenheit\n",
    "    elif origen == \"farenheit\" and destino == \"celsius\":\n",
    "        return (valor - 32) * 5/9\n",
    "    elif origen == \"farenheit\" and destino == \"kelvin\":\n",
    "        return ((valor - 32)*5/9) + 273.15\n",
    "    elif (origen == \"celsius\" and destino == \"celsius\") or (origen == \"kelvin\" and destino == \"kelvin\") or (origen == \"farenheit\" and destino == \"farenheit\"):\n",
    "        return 1\n",
    "print(grados(10,\"farenheit\",\"celsius\"))\n",
    "help(grados)"
   ]
  },
  {
   "attachments": {},
   "cell_type": "markdown",
   "metadata": {},
   "source": [
    "5) Iterando una lista con los tres valores posibles de temperatura que recibe la función del punto 5, hacer un print para cada combinación de los mismos:"
   ]
  },
  {
   "cell_type": "code",
   "execution_count": 26,
   "metadata": {},
   "outputs": [
    {
     "name": "stdout",
     "output_type": "stream",
     "text": [
      "1 grado de celsius a celsius es 1\n",
      "1 grado de celsius a farenheit es 33.8\n",
      "1 grado de celsius a kelvin es 274.15\n",
      "1 grado de farenheit a celsius es -17.22222222222222\n",
      "1 grado de farenheit a farenheit es 1\n",
      "1 grado de farenheit a kelvin es 255.92777777777775\n",
      "1 grado de kelvin a celsius es -272.15\n",
      "1 grado de kelvin a farenheit es -457.87\n",
      "1 grado de kelvin a kelvin es 1\n"
     ]
    }
   ],
   "source": [
    "grados_ = [\"celsius\",\"farenheit\",\"kelvin\"]\n",
    "for i in range(0,3):\n",
    "    for x in range(0,3):\n",
    "        print(f\"1 grado de {grados_[i]} a {grados_[x]} es {grados(1,grados_[i],grados_[x])}\")"
   ]
  },
  {
   "attachments": {},
   "cell_type": "markdown",
   "metadata": {},
   "source": [
    "6) Armar una función que devuelva el factorial de un número. Tener en cuenta que el usuario puede equivocarse y enviar de parámetro un número no entero o negativo"
   ]
  },
  {
   "cell_type": "code",
   "execution_count": 30,
   "metadata": {},
   "outputs": [
    {
     "name": "stdout",
     "output_type": "stream",
     "text": [
      "120\n"
     ]
    }
   ],
   "source": [
    "def factorial(num):\n",
    "    '''Devuelve el factorial del número que recibe como parámetro'''\n",
    "    if num > 1:\n",
    "        num = num * factorial(num-1)\n",
    "    return num\n",
    "print(factorial(5))"
   ]
  }
 ],
 "metadata": {
  "interpreter": {
   "hash": "c85384e4cb51c8b72350f3a8712cc8351fdc3955e32a27f9b60c6242ab125f01"
  },
  "kernelspec": {
   "display_name": "Python 3 (ipykernel)",
   "language": "python",
   "name": "python3"
  },
  "language_info": {
   "codemirror_mode": {
    "name": "ipython",
    "version": 3
   },
   "file_extension": ".py",
   "mimetype": "text/x-python",
   "name": "python",
   "nbconvert_exporter": "python",
   "pygments_lexer": "ipython3",
   "version": "3.11.4"
  }
 },
 "nbformat": 4,
 "nbformat_minor": 4
}
